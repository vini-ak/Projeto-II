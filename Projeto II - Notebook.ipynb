{
 "cells": [
  {
   "cell_type": "code",
   "execution_count": 88,
   "metadata": {},
   "outputs": [],
   "source": [
    "import pandas as pd\n",
    "import matplotlib.pyplot as plt\n",
    "import time\n",
    "import numpy as np\n",
    "import os\n",
    "import random"
   ]
  },
  {
   "cell_type": "code",
   "execution_count": 89,
   "metadata": {},
   "outputs": [],
   "source": [
    "def change_directory(path):\n",
    "    '''Essa função será utilizada para alterar o diretório da aplicação.'''\n",
    "    if not os.getcwd() == path:\n",
    "        os.chdir(path)\n",
    "        return True\n",
    "    return False\n",
    "        "
   ]
  },
  {
   "cell_type": "code",
   "execution_count": 90,
   "metadata": {},
   "outputs": [],
   "source": [
    "# LINEAR SEARCH\n",
    "\n",
    "def linear_search(array, x) :\n",
    "\tpassos = 0\n",
    "\tfor i in range(0, len(array)):\n",
    "\t\tpassos += 1\n",
    "\t\tif(array[i] == x):\n",
    "\t\t\treturn passos # Retorna a quantidade de passos dados até encontrar o valor da busca\n",
    "\treturn passos\n"
   ]
  },
  {
   "cell_type": "code",
   "execution_count": 91,
   "metadata": {},
   "outputs": [],
   "source": [
    "# BINARY SEARCH\n",
    "\n",
    "def binary_search(array, l, r, x, passos = 0) :\n",
    "\t''' Uma busca binária começa pelo elemento do meio da lista e\n",
    "\t\ta divide em duas sublistas (left, right).\n",
    "\t\tA busca verificará se esse elemento do meio é maior ou menor\n",
    "\t\tque o elemento buscado. Caso seja maior, o algoritmo verificará\n",
    "\t\ta sublista left, partindo do meio da lista. Se for menor, \n",
    "\t\tverificará right, partindo do meio da lista.\n",
    "\n",
    "\t\tOBS.: Este algoritmo é ideal para fazer verificações em arrays\n",
    "\t\tordenados.\n",
    "        \n",
    "        O retorno é a quantidade de passos de execução do algoritmo.\n",
    "\t'''\n",
    "\tpassos += 1   # O número de passos é incrementado\n",
    "    \n",
    "\tif(r >= l) :\n",
    "\t\tmiddle = l + (r - l) //2  # indice da metade da tabela\n",
    "\n",
    "\t\tif(array[middle] == x):\n",
    "\t\t\treturn passos\n",
    "\n",
    "\t\telif(array[middle] > x):\n",
    "\t\t\treturn binary_search(array, l, middle-1, x, passos)\n",
    "\n",
    "\t\telse:\n",
    "\t\t\treturn binary_search(array, middle+1, r, x, passos)\n",
    "\telse:\n",
    "\t\treturn passos"
   ]
  },
  {
   "cell_type": "code",
   "execution_count": 92,
   "metadata": {},
   "outputs": [],
   "source": [
    "# INTERPOLATION SEARCH\n",
    "\n",
    "def interpolation_search(array, lo, hi, x, passos = 0):\n",
    "    '''\n",
    "    O algoritmo de busca por interpolação trabalha calculando\n",
    "    a provável posição de um elemento.\n",
    "    O cálculo da posição é feito, e se caso o elemento estiver\n",
    "    nela, a quantidade de passos é retornada.\n",
    "    Caso o elemento buscado for menor do que o elemento correspondente\n",
    "    à esta posição, o algoritmo procurará o valor (por meio de uma recursão)\n",
    "    entre os elementos que estão à esquerda.\n",
    "    E caso o elemento buscado seja maior,  valor será buscado entre os elementos\n",
    "    da direita.\n",
    "    \n",
    "    Caso o elemento não esteja presente no array, será retornado -1.\n",
    "    '''\n",
    "    \n",
    "    passos += 1   # O número de passos é incrementado\n",
    "    \n",
    "    # VERIFICANDO SE X ESTÁ ENTRE [lo, hi]\n",
    "    if(lo <= hi and array[lo] <= x and x <= array[hi]):\n",
    "        pos = lo + (((hi - lo) * (x - array[lo])) // (array[hi] - array[lo])) \n",
    "        \n",
    "        if (array[pos] == x):\n",
    "           return passos\n",
    "    \n",
    "        elif (array[pos] < x):\n",
    "           return interpolation_search(array, pos + 1, hi, x, passos)\n",
    "    \n",
    "        else:\n",
    "           return interpolation_search(array, lo, pos - 1, x, passos)\n",
    "\n",
    "    else:\n",
    "       return passos"
   ]
  },
  {
   "cell_type": "code",
   "execution_count": 93,
   "metadata": {},
   "outputs": [],
   "source": [
    "# FUNCTION TO CHECK TIME\n",
    "\n",
    "def time_check(algo):\n",
    "    start = time.time()\n",
    "    passosAlgoritmo = algo\n",
    "    return time.time() - start, passosAlgoritmo\n"
   ]
  },
  {
   "cell_type": "code",
   "execution_count": 94,
   "metadata": {},
   "outputs": [],
   "source": [
    "# FUNÇÃO PARA RETORNAR UMA LISTA DOS ELEMENTOS A SEREM BUSCADOS\n",
    "\n",
    "def elementos_a_buscar(listaPosicoes, base):\n",
    "    listaElementos = []\n",
    "    for i in listaPosicoes:\n",
    "        listaElementos.append(base['0'][i])\n",
    "    \n",
    "    # Este elemento não consta em nenhuma das bases, será usado para testar o pior caso de quando não temos um elemento na lista\n",
    "    listaElementos.append(1000001)   \n",
    "\n",
    "    return listaElementos"
   ]
  },
  {
   "cell_type": "code",
   "execution_count": 95,
   "metadata": {},
   "outputs": [],
   "source": [
    "# IMPORT PATH: Path onde coloquei os arquivos do projeto \n",
    "path = \"C:\\\\Users\\\\vinic\\\\Desktop\\\\Projeto-II\\\\bases\"\n",
    "change_directory(path)\n",
    "\n",
    "\n",
    "# IMPORTANDO AS BASES\n",
    "\n",
    "# OBS: Os índices de cada base elemento da base foram duplicados. De qualquer forma, devem ser desprezados\n",
    "baseSequencial10_4 = pd.read_csv('base_10000_sequencial.csv')\n",
    "baseRandom10_4 = pd.read_csv('base_10000_random.csv')\n",
    "\n",
    "baseSequencial10_5 = pd.read_csv('base_100000_sequencial.csv')\n",
    "baseRandom10_5 = pd.read_csv('base_100000_random.csv')\n",
    "\n",
    "baseSequencial10_6 = pd.read_csv('base_1000000_sequencial.csv')\n",
    "baseRandom10_6 = pd.read_csv('base_1000000_random.csv')"
   ]
  },
  {
   "cell_type": "code",
   "execution_count": 96,
   "metadata": {},
   "outputs": [],
   "source": [
    "# LABELS\n",
    "\n",
    "# PARA OS PRÓXIMOS PASSOS, ASSUMA QUE:\n",
    "#\n",
    "#    l = busca linear\n",
    "#    b = busca binária\n",
    "#    p = busca por interpolação"
   ]
  },
  {
   "cell_type": "code",
   "execution_count": 97,
   "metadata": {},
   "outputs": [],
   "source": [
    "#    BASES DE 10^4 ELEMENTOS:\n",
    "#\n",
    "#    Primeiro será feita uma análise da base sequencial\n",
    "#    E depois da base aleatória."
   ]
  },
  {
   "cell_type": "code",
   "execution_count": 98,
   "metadata": {},
   "outputs": [],
   "source": [
    "# Lista de posições dos elementos que serão buscados\n",
    "# Por que isso? Por que caso eu assuma esses valores pode ocorrer deles não estarem\n",
    "# presente na lista por mais de uma vez.\n",
    "\n",
    "listaPosicoes = [0, 10, 20, 50, 4999, 5000, 9999]\n",
    "for i in range(23):\n",
    "    listaPosicoes.append(random.randint(0, 9999))\n",
    "\n",
    "    \n",
    "# Elementos da busca sequencial\n",
    "elementos_sequenciais_10_4 = elementos_a_buscar(listaPosicoes, baseSequencial10_4)\n",
    "\n",
    "# Elementos da busca randômica\n",
    "elementos_random_10_4 = elementos_a_buscar(listaPosicoes, baseRandom10_4)"
   ]
  },
  {
   "cell_type": "code",
   "execution_count": 99,
   "metadata": {},
   "outputs": [
    {
     "ename": "TypeError",
     "evalue": "'NoneType' object is not iterable",
     "output_type": "error",
     "traceback": [
      "\u001b[1;31m---------------------------------------------------------------------------\u001b[0m",
      "\u001b[1;31mTypeError\u001b[0m                                 Traceback (most recent call last)",
      "\u001b[1;32m<ipython-input-99-494161b5ea2a>\u001b[0m in \u001b[0;36m<module>\u001b[1;34m\u001b[0m\n\u001b[0;32m      2\u001b[0m \u001b[1;33m\u001b[0m\u001b[0m\n\u001b[0;32m      3\u001b[0m \u001b[0mrows\u001b[0m \u001b[1;33m=\u001b[0m \u001b[1;33m[\u001b[0m\u001b[1;33m]\u001b[0m\u001b[1;33m\u001b[0m\u001b[1;33m\u001b[0m\u001b[0m\n\u001b[1;32m----> 4\u001b[1;33m \u001b[1;32mfor\u001b[0m \u001b[0me\u001b[0m \u001b[1;32min\u001b[0m \u001b[0melementos_sequenciais_10_4\u001b[0m\u001b[1;33m:\u001b[0m\u001b[1;33m\u001b[0m\u001b[1;33m\u001b[0m\u001b[0m\n\u001b[0m\u001b[0;32m      5\u001b[0m     \u001b[0ml\u001b[0m \u001b[1;33m=\u001b[0m \u001b[0mtime_check\u001b[0m\u001b[1;33m(\u001b[0m\u001b[0mlinear_search\u001b[0m\u001b[1;33m(\u001b[0m\u001b[0mbaseSequencial10_4\u001b[0m\u001b[1;33m[\u001b[0m\u001b[1;34m'0'\u001b[0m\u001b[1;33m]\u001b[0m\u001b[1;33m[\u001b[0m\u001b[1;33m:\u001b[0m\u001b[1;33m]\u001b[0m\u001b[1;33m,\u001b[0m \u001b[0me\u001b[0m\u001b[1;33m)\u001b[0m\u001b[1;33m)\u001b[0m\u001b[1;33m\u001b[0m\u001b[1;33m\u001b[0m\u001b[0m\n\u001b[0;32m      6\u001b[0m     \u001b[0mb\u001b[0m \u001b[1;33m=\u001b[0m \u001b[0mtime_check\u001b[0m\u001b[1;33m(\u001b[0m\u001b[0mbinary_search\u001b[0m\u001b[1;33m(\u001b[0m\u001b[0mbaseSequencial10_4\u001b[0m\u001b[1;33m[\u001b[0m\u001b[1;34m'0'\u001b[0m\u001b[1;33m]\u001b[0m\u001b[1;33m[\u001b[0m\u001b[1;33m:\u001b[0m\u001b[1;33m]\u001b[0m\u001b[1;33m,\u001b[0m \u001b[1;36m0\u001b[0m\u001b[1;33m,\u001b[0m \u001b[1;36m9999\u001b[0m\u001b[1;33m,\u001b[0m \u001b[0me\u001b[0m\u001b[1;33m)\u001b[0m\u001b[1;33m)\u001b[0m\u001b[1;33m\u001b[0m\u001b[1;33m\u001b[0m\u001b[0m\n",
      "\u001b[1;31mTypeError\u001b[0m: 'NoneType' object is not iterable"
     ]
    }
   ],
   "source": [
    "# VARREDURA NA BASE SEQUENCIAL 10^4\n",
    "\n",
    "rows = []\n",
    "for e in elementos_sequenciais_10_4:\n",
    "    l = time_check(linear_search(baseSequencial10_4['0'][:], e))\n",
    "    b = time_check(binary_search(baseSequencial10_4['0'][:], 0, 9999, e))\n",
    "    p = time_check(interpolation_search(baseSequencial10_4['0'][:], 0, 9999, e))\n",
    "    \n",
    "    rows.append(pd.Series({\"valor\": e, \"l_tempo\" : l[0], \"l_passos\" : l[1], \"b_tempo\" : b[0], \"b_passos\" : b[1], \"p_tempo\" : p[0], \"p_passos\" : p[1]}))\n",
    "    \n",
    "df_seq_104 = pd.DataFrame(rows)\n",
    "df_seq_104.astype({\"valor\" : int, \"l_tempo\" : float, \"l_passos\" : int, \"b_tempo\" : float, \"b_passos\" : int, \"p_tempo\" : float, \"p_passos\" : int})"
   ]
  },
  {
   "cell_type": "code",
   "execution_count": null,
   "metadata": {},
   "outputs": [],
   "source": [
    "# GRÁFICO DA RELAÇÃO ELEMENTO -> QUANTIDADE DE PASSOS\n",
    "\n",
    "l_data = df_seq_104['l_passos'][:]\n",
    "b_data = df_seq_104['b_passos'][:]\n",
    "p_data = df_seq_104['p_passos'][:]\n",
    "\n",
    "values = df_seq_104['valor'][:]\n",
    "\n",
    "fig, ax = plt.subplots()\n",
    "ax.plot(values, l_data, label= 'Linear')\n",
    "ax.plot(values, b_data, label= 'Binária')\n",
    "ax.plot(values, p_data, label= 'Interpolação')\n",
    "ax.legend()\n",
    "\n",
    "plt.show()"
   ]
  },
  {
   "cell_type": "code",
   "execution_count": null,
   "metadata": {},
   "outputs": [],
   "source": [
    "# VARREDURA NA BASE RANDOM 10^4\n",
    "\n",
    "rows = []\n",
    "for e in elementos_random_10_4:\n",
    "    l = time_check(linear_search(baseRandom10_4['0'][:], e))\n",
    "    b = time_check(binary_search(baseRandom10_4['0'][:], 0, 9999, e))\n",
    "    p = time_check(interpolation_search(baseRandom10_4['0'][:], 0, 9999, e))\n",
    "    \n",
    "    rows.append(pd.Series({\"valor\": e, \"l_tempo\" : l[0], \"l_passos\" : l[1], \"b_tempo\" : b[0], \"b_passos\" : b[1], \"p_tempo\" : p[0], \"p_passos\" : p[1]}))\n",
    "    \n",
    "df_seq_104 = pd.DataFrame(rows)\n",
    "df_seq_104.astype({\"valor\" : int, \"l_tempo\" : float, \"l_passos\" : int, \"b_tempo\" : float, \"b_passos\" : int, \"p_tempo\" : float, \"p_passos\" : int})"
   ]
  },
  {
   "cell_type": "code",
   "execution_count": null,
   "metadata": {},
   "outputs": [],
   "source": []
  }
 ],
 "metadata": {
  "kernelspec": {
   "display_name": "Python 3",
   "language": "python",
   "name": "python3"
  },
  "language_info": {
   "codemirror_mode": {
    "name": "ipython",
    "version": 3
   },
   "file_extension": ".py",
   "mimetype": "text/x-python",
   "name": "python",
   "nbconvert_exporter": "python",
   "pygments_lexer": "ipython3",
   "version": "3.8.3"
  }
 },
 "nbformat": 4,
 "nbformat_minor": 4
}
