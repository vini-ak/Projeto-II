{
 "cells": [
  {
   "cell_type": "code",
   "execution_count": 1,
   "metadata": {},
   "outputs": [],
   "source": [
    "import pandas as pd\n",
    "import matplotlib.pyplot as plt\n",
    "import time\n",
    "import numpy as np"
   ]
  },
  {
   "cell_type": "code",
   "execution_count": 2,
   "metadata": {},
   "outputs": [],
   "source": [
    "# LINEAR SEARCH\n",
    "\n",
    "def linear_search(array, x) :\n",
    "\t\n",
    "\tfor i in range(0, len(array)):\n",
    "\t\tif(array[i] == x):\n",
    "\t\t\treturn i # Retorna a posição onde x foi encontrado\n",
    "\treturn -1\n"
   ]
  },
  {
   "cell_type": "code",
   "execution_count": 3,
   "metadata": {},
   "outputs": [],
   "source": [
    "# BINARY SEARCH\n",
    "\n",
    "def binary_search(array, l, r, x) :\n",
    "\t''' Uma busca binária começa pelo elemento do meio da lista e\n",
    "\t\ta divide em duas sublistas (left, right).\n",
    "\t\tA busca verificará se esse elemento do meio é maior ou menor\n",
    "\t\tque o elemento buscado. Caso seja maior, o algoritmo verificará\n",
    "\t\ta sublista left, partindo do meio da lista. Se for menor, \n",
    "\t\tverificará right, partindo do meio da lista.\n",
    "\n",
    "\t\tOBS.: Este algoritmo é ideal para fazer verificações em arrays\n",
    "\t\tordenados.\n",
    "\t'''\n",
    "\n",
    "\tif(r >= l) :\n",
    "\t\tmiddle = l + (r - l) //2  # indice da metade da tabela\n",
    "\n",
    "\t\tif(array[middle] == x):\n",
    "\t\t\treturn middle\n",
    "\n",
    "\t\telif(array[middle] > x):\n",
    "\t\t\treturn binary_search(array, l, middle-1, x)\n",
    "\n",
    "\t\telse:\n",
    "\t\t\treturn binary_search(array, middle+1, r, x)\n",
    "\telse:\n",
    "\t\treturn -1"
   ]
  },
  {
   "cell_type": "code",
   "execution_count": 4,
   "metadata": {},
   "outputs": [],
   "source": [
    "# INTERPOLATION SEARCH\n",
    "\n",
    "def interpolation_search(array, lo, hi, x):\n",
    "    \n",
    "    # VERIFICANDO SE X ESTÁ ENTRE [lo, hi]\n",
    "    if(lo <= hi and array[lo] <= x and x <= array[hi]):\n",
    "        pos = lo + (((hi - lo) * (x - array[lo])) // (array[hi] - array[lo])) \n",
    "        if (array[pos] == x):\n",
    "           return pos\n",
    "        elif (array[pos] < x):\n",
    "           return interpolation_search(array, pos + 1, hi, x)\n",
    "        else:\n",
    "           return interpolation_search(array, lo, pos - 1, x)\n",
    "\n",
    "    else:\n",
    "       return -1"
   ]
  },
  {
   "cell_type": "code",
   "execution_count": 5,
   "metadata": {},
   "outputs": [],
   "source": [
    "# FUNCTION TO CHECK TIME\n",
    "\n",
    "def time_check(algo):\n",
    "    start = time.time()\n",
    "    print(algo)\n",
    "    return time.time() - start\n",
    "\n",
    "lista = sorted([ 1, 2, 3, 4, 5, 6, 7, 8, 9, 10])"
   ]
  },
  {
   "cell_type": "code",
   "execution_count": 6,
   "metadata": {},
   "outputs": [
    {
     "name": "stdout",
     "output_type": "stream",
     "text": [
      "9\n"
     ]
    },
    {
     "data": {
      "text/plain": [
       "0.0"
      ]
     },
     "execution_count": 6,
     "metadata": {},
     "output_type": "execute_result"
    }
   ],
   "source": [
    "time_check(linear_search(lista, 10))"
   ]
  },
  {
   "cell_type": "code",
   "execution_count": 7,
   "metadata": {},
   "outputs": [
    {
     "name": "stdout",
     "output_type": "stream",
     "text": [
      "9\n"
     ]
    },
    {
     "data": {
      "text/plain": [
       "0.0"
      ]
     },
     "execution_count": 7,
     "metadata": {},
     "output_type": "execute_result"
    }
   ],
   "source": [
    "time_check(binary_search(lista, 0, len(lista) - 1, 10))"
   ]
  },
  {
   "cell_type": "code",
   "execution_count": 8,
   "metadata": {},
   "outputs": [
    {
     "name": "stdout",
     "output_type": "stream",
     "text": [
      "7\n"
     ]
    },
    {
     "data": {
      "text/plain": [
       "0.0009989738464355469"
      ]
     },
     "execution_count": 8,
     "metadata": {},
     "output_type": "execute_result"
    }
   ],
   "source": [
    "time_check(interpolation_search(lista, 0, len(lista)-1, 8))"
   ]
  },
  {
   "cell_type": "code",
   "execution_count": null,
   "metadata": {},
   "outputs": [],
   "source": []
  },
  {
   "cell_type": "code",
   "execution_count": null,
   "metadata": {},
   "outputs": [],
   "source": []
  },
  {
   "cell_type": "code",
   "execution_count": null,
   "metadata": {},
   "outputs": [],
   "source": []
  }
 ],
 "metadata": {
  "kernelspec": {
   "display_name": "Python 3",
   "language": "python",
   "name": "python3"
  },
  "language_info": {
   "codemirror_mode": {
    "name": "ipython",
    "version": 3
   },
   "file_extension": ".py",
   "mimetype": "text/x-python",
   "name": "python",
   "nbconvert_exporter": "python",
   "pygments_lexer": "ipython3",
   "version": "3.8.3"
  }
 },
 "nbformat": 4,
 "nbformat_minor": 4
}
